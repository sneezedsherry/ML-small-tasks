{
  "nbformat": 4,
  "nbformat_minor": 0,
  "metadata": {
    "colab": {
      "name": "bus235-hw2-Cao_Xiyu-013760916-US_Cities_Single_Clustering",
      "provenance": [],
      "include_colab_link": true
    },
    "kernelspec": {
      "name": "python3",
      "display_name": "Python 3"
    }
  },
  "cells": [
    {
      "cell_type": "markdown",
      "metadata": {
        "id": "view-in-github",
        "colab_type": "text"
      },
      "source": [
        "<a href=\"https://colab.research.google.com/github/sneezedsherry/ML-small-tasks/blob/master/single_link_clustering_with_dendrogram.ipynb\" target=\"_parent\"><img src=\"https://colab.research.google.com/assets/colab-badge.svg\" alt=\"Open In Colab\"/></a>"
      ]
    },
    {
      "cell_type": "markdown",
      "metadata": {
        "id": "ERaxcuJ0dlly",
        "colab_type": "text"
      },
      "source": [
        "Learning Objective: Single Link Clustering\n",
        "===="
      ]
    },
    {
      "cell_type": "code",
      "metadata": {
        "id": "0oOvAm1-R0aY",
        "colab_type": "code",
        "colab": {}
      },
      "source": [
        "import plotly.figure_factory as ff\n",
        "import numpy as np\n",
        "from scipy.cluster.hierarchy import linkage\n",
        "from scipy.spatial.distance import squareform"
      ],
      "execution_count": 0,
      "outputs": []
    },
    {
      "cell_type": "markdown",
      "metadata": {
        "id": "yXTbLHr5OhW3",
        "colab_type": "text"
      },
      "source": [
        "<br> | BOS | NT | DC | MIA | CHI | SEA | SF | LA | DEN\n",
        " --- | --- | ---| ---| --- | --- | --- | ---| ---| ---\n",
        " **BOS** |  0  | 206| 429|1504 | 963 |2976 |3095|2979|1949|\n",
        " **NY**  | 206 |  0 | 233|1308 |802  |2815 |2934|2786|1771|\n",
        " **DC**  | 429 |233 | 0  |1075 |671  |2684 |2799|2631|1616|\n",
        " **MIA** |1504 |1308|1075|0    |1329 |3273 |3053|2687|2037|\n",
        " **CHI** |963  |802 | 671|1329 |0    |2013 |2142|2054|996 |\n",
        " **SEA** |2976 |2815|2684|3273 |2013 |  0  |808 |1131|1307|\n",
        " **SF**  |3095 |2934|2799|3053 |2142 |808  |0   |379 |1235|\n",
        " **LA**  |2979 |2786|2631|2687 |2054 |1131 |379 |0   |1059|\n",
        " **DEN** |1949 |1771|1616|2037 |996  |1037 |1235|1059| 0  |\n"
      ]
    },
    {
      "cell_type": "markdown",
      "metadata": {
        "id": "Har0vt1dgb44",
        "colab_type": "text"
      },
      "source": [
        "We can find in the sheet that the distence between NewYork and Boston are the nearest among all the distentces between cities. So we firstly merged them into BOS/NY and then calculate its distance from other cities.<br>\n",
        "In single linkage clustering, the new distance between the combined group and outsiders is equal to the shortest distance between the outsiders and any of the object in the gorup. So we rewrite the chart in this way:"
      ]
    },
    {
      "cell_type": "markdown",
      "metadata": {
        "id": "UEcGZRiIADWO",
        "colab_type": "text"
      },
      "source": [
        "<br> | BOS/NY | DC | MIA | CHI | SEA | SF | LA | DEN\n",
        " --- | ---| ---| --- | --- | --- | ---| ---| ---\n",
        " **BO/NY**  |  0 | 233|1308 |802  |2815 |2934|2786|1771|\n",
        " **DC**  |233 | 0  |1075 |671  |2684 |2799|2631|1616|\n",
        " **MIA** |1308|1075|0    |1329 |3273 |3053|2687|2037|\n",
        " **CHI** |802 | 671|1329 |0    |2013 |2142|2054|996 |\n",
        " **SEA** |2815|2684|3273 |2013 |  0  |808 |1131|1307|\n",
        " **SF**  |2934|2799|3053 |2142 |808  |0   |379 |1235|\n",
        " **LA**  |2786|2631|2687 |2054 |1131 |379 |0   |1059|\n",
        " **DEN** |1771|1616|2037 |996  |1037 |1235|1059| 0  |"
      ]
    },
    {
      "cell_type": "markdown",
      "metadata": {
        "id": "KeACj3h6AkMx",
        "colab_type": "text"
      },
      "source": [
        "And then we find that the nearest pair 233, which is between BOS/NY and DC, so we can caculate the distance and get a new chart."
      ]
    },
    {
      "cell_type": "markdown",
      "metadata": {
        "id": "H5MGAnNuA_KL",
        "colab_type": "text"
      },
      "source": [
        "<br> | BOS/NY/DC | MIA | CHI | SEA | SF | LA | DEN\n",
        " ---| ---| --- | --- | --- | ---| ---| ---\n",
        " **BO/NY/DC** | 0  |1075 |671  |2684 |2799|2631|1616|\n",
        " **MIA** |1075|0    |1329 |3273 |3053|2687|2037|\n",
        " **CHI** | 671|1329 |0    |2013 |2142|2054|996 |\n",
        " **SEA** |2684|3273 |2013 |  0  |808 |1131|1307|\n",
        " **SF**  |2799|3053 |2142 |808  |0   |379 |1235|\n",
        " **LA**  |2631|2687 |2054 |1131 |379 |0   |1059|\n",
        " **DEN** |1616|2037 |996  |1037 |1235|1059| 0  |"
      ]
    },
    {
      "cell_type": "markdown",
      "metadata": {
        "id": "mizyOB3-B0Pj",
        "colab_type": "text"
      },
      "source": [
        "Now, we can see that SF and LA are the closest pair in the chart, so we merge them toghter and recaculate the matrix:"
      ]
    },
    {
      "cell_type": "markdown",
      "metadata": {
        "id": "WH-pwOj1CqAT",
        "colab_type": "text"
      },
      "source": [
        "<br> | BOS/NY/DC| MIA | CHI | SEA  | LA/SF | DEN\n",
        " ---| ---| --- | --- | --- | ---| ---\n",
        " **BO/NY/DC** | 0 |1075 |671  |2684 |2631|1616|\n",
        " **MIA** |1075|0   |1329 |3273 |2687|2037|\n",
        " **CHI** | 671|1329 |0    |2013 |2054|996 |\n",
        " **SEA** |2684|3273 |2013 |  0  |808 |1307|\n",
        " **LA/SF**  |2631|2687 |2054 |808 |0   |1059|\n",
        " **DEN** |1616|2037 |996  |1037 |1059| 0  |"
      ]
    },
    {
      "cell_type": "markdown",
      "metadata": {
        "id": "ZNZthI_MGUVB",
        "colab_type": "text"
      },
      "source": [
        "Now the distance between CHI and BOS/NY/DC is the nearest, so we merge them together"
      ]
    },
    {
      "cell_type": "markdown",
      "metadata": {
        "id": "xZA1fzNWG5kh",
        "colab_type": "text"
      },
      "source": [
        "<br>          | BOS/NY/DC/CHI| MIA | SEA  | LA/SF | DEN\n",
        " ---       |  --- | --- | --- | ---  | ---\n",
        " **BO/NY/DC/CHI** | 0  |1075  |2013 |2054|996|\n",
        " **MIA**      |1075|0     |3273 |2687|2037|\n",
        " **SEA**      |2013|3273 |  0  |808 |1307|\n",
        " **LA/SF**    |2054|2687 |808  |0   |1059|\n",
        " **DEN**      |996|2037 |1037 |1059| 0  |"
      ]
    },
    {
      "cell_type": "markdown",
      "metadata": {
        "id": "jobgPL61NtjZ",
        "colab_type": "text"
      },
      "source": [
        "Now the distance between LA/SF and SEA is the nearest: "
      ]
    },
    {
      "cell_type": "markdown",
      "metadata": {
        "id": "SiW9bnIVN-H3",
        "colab_type": "text"
      },
      "source": [
        "<br>          | BOS/NY/DC/CHI| MIA  | LA/SF/SEA | DEN\n",
        " ---       |  --- | --- | ---  | ---\n",
        " **BO/NY/DC/CHI** | 0  |1075  |2013 |996|\n",
        " **MIA**      |1075|0     |2687 |2037|\n",
        " **LA/SF/SEA**    |2013|2687 |0   |1059|\n",
        " **DEN**      |996|2037 |1059| 0  |"
      ]
    },
    {
      "cell_type": "markdown",
      "metadata": {
        "id": "pHM5MXBwPmNL",
        "colab_type": "text"
      },
      "source": [
        "Now the distence between Den and BOS/NY/DC/CHI is the nearest:"
      ]
    },
    {
      "cell_type": "markdown",
      "metadata": {
        "id": "MC9AJx1yP0cl",
        "colab_type": "text"
      },
      "source": [
        "<br>          | BOS/NY/DC/CHI| MIA  | LA/SF/SEA |\n",
        " ---       |  --- | --- | ---  \n",
        " **BO/NY/DC/CHI/DEN** | 0  |1075  |1059 |\n",
        " **MIA**      |1075|0     |2687 |\n",
        " **LA/SF/SEA**    |1059|2687 |0   |"
      ]
    },
    {
      "cell_type": "markdown",
      "metadata": {
        "id": "IeK3IC23QnKf",
        "colab_type": "text"
      },
      "source": [
        "Now the distence between BO/NY/DC/CHI/DEN and LA/SF/SEA is the shortest:"
      ]
    },
    {
      "cell_type": "markdown",
      "metadata": {
        "id": "C7ECqHaCQ3Rp",
        "colab_type": "text"
      },
      "source": [
        "<br>          | BOS/NY/DC/CHI/LA/SF/SEA| MIA  |\n",
        " ---       |  --- | --- \n",
        " **BO/NY/DC/CHI/DEN/LA/SF/SEA** | 0  |1075  \n",
        " **MIA**      |1075|0     "
      ]
    },
    {
      "cell_type": "markdown",
      "metadata": {
        "id": "xfaHTLo3RSmy",
        "colab_type": "text"
      },
      "source": [
        "Finally we get a 2*2 matrix at level 1075"
      ]
    },
    {
      "cell_type": "code",
      "metadata": {
        "id": "EW54rfZRi6Bn",
        "colab_type": "code",
        "outputId": "fb72fda7-9cb4-450a-961e-7fc6256c6d83",
        "colab": {
          "base_uri": "https://localhost:8080/",
          "height": 170
        }
      },
      "source": [
        "X =np.array( [[0, 206, 429, 1504, 963, 2976, 3095, 2979, 1949],\n",
        "              [206, 0, 233, 1308, 802, 2815, 2934, 2786, 1771],\n",
        "              [429, 233, 0, 1075, 671, 2684, 2799, 2631, 1616],\n",
        "              [1504, 1308, 1075, 0, 1329, 3273, 3053, 2687, 2037],\n",
        "              [963, 802, 671, 1329, 0, 2013, 2142, 2054, 996],\n",
        "              [2976, 2815, 2684, 3273, 2013, 0, 808, 1131, 1307],\n",
        "              [3095, 2934, 2799, 3053, 2142, 808, 0, 379, 1235],\n",
        "              [2979, 2786, 2631, 2687, 2054, 1131, 379, 0, 1059],\n",
        "              [1949, 1771, 1616, 2037, 996, 1307, 1235, 1059, 0]] )\n",
        "condensedX = squareform(X)\n",
        "X"
      ],
      "execution_count": 0,
      "outputs": [
        {
          "output_type": "execute_result",
          "data": {
            "text/plain": [
              "array([[   0,  206,  429, 1504,  963, 2976, 3095, 2979, 1949],\n",
              "       [ 206,    0,  233, 1308,  802, 2815, 2934, 2786, 1771],\n",
              "       [ 429,  233,    0, 1075,  671, 2684, 2799, 2631, 1616],\n",
              "       [1504, 1308, 1075,    0, 1329, 3273, 3053, 2687, 2037],\n",
              "       [ 963,  802,  671, 1329,    0, 2013, 2142, 2054,  996],\n",
              "       [2976, 2815, 2684, 3273, 2013,    0,  808, 1131, 1307],\n",
              "       [3095, 2934, 2799, 3053, 2142,  808,    0,  379, 1235],\n",
              "       [2979, 2786, 2631, 2687, 2054, 1131,  379,    0, 1059],\n",
              "       [1949, 1771, 1616, 2037,  996, 1307, 1235, 1059,    0]])"
            ]
          },
          "metadata": {
            "tags": []
          },
          "execution_count": 50
        }
      ]
    },
    {
      "cell_type": "code",
      "metadata": {
        "id": "vHEwBCEOmM_g",
        "colab_type": "code",
        "outputId": "dd528bcf-3666-4876-9f5a-5248a8073b11",
        "colab": {
          "base_uri": "https://localhost:8080/",
          "height": 241
        }
      },
      "source": [
        "linkage(X, 'single', optimal_ordering=True)"
      ],
      "execution_count": 0,
      "outputs": [
        {
          "output_type": "stream",
          "text": [
            "/usr/local/lib/python3.6/dist-packages/ipykernel_launcher.py:1: ClusterWarning:\n",
            "\n",
            "scipy.cluster: The symmetric non-negative hollow observation matrix looks suspiciously like an uncondensed distance matrix\n",
            "\n"
          ],
          "name": "stderr"
        },
        {
          "output_type": "execute_result",
          "data": {
            "text/plain": [
              "array([[1.00000000e+00, 0.00000000e+00, 5.55337735e+02, 2.00000000e+00],\n",
              "       [2.00000000e+00, 9.00000000e+00, 5.59636489e+02, 3.00000000e+00],\n",
              "       [6.00000000e+00, 7.00000000e+00, 7.92383114e+02, 2.00000000e+00],\n",
              "       [5.00000000e+00, 1.10000000e+01, 1.40819175e+03, 3.00000000e+00],\n",
              "       [4.00000000e+00, 1.00000000e+01, 1.78132928e+03, 4.00000000e+00],\n",
              "       [1.30000000e+01, 3.00000000e+00, 2.37640022e+03, 5.00000000e+00],\n",
              "       [8.00000000e+00, 1.40000000e+01, 2.75691639e+03, 6.00000000e+00],\n",
              "       [1.20000000e+01, 1.50000000e+01, 2.76945626e+03, 9.00000000e+00]])"
            ]
          },
          "metadata": {
            "tags": []
          },
          "execution_count": 51
        }
      ]
    },
    {
      "cell_type": "code",
      "metadata": {
        "id": "EQ3LJZiFUJaY",
        "colab_type": "code",
        "outputId": "57568dac-3ba7-40ee-96e6-5f726f918e00",
        "colab": {
          "base_uri": "https://localhost:8080/",
          "height": 467
        }
      },
      "source": [
        "names = ['BOS', 'NY', 'DC', 'MIA', 'CHI', 'SEA', 'SF', 'LA', 'DEN']\n",
        "fig = ff.create_dendrogram(X, labels=names, linkagefun=lambda x: linkage(condensedX, 'single'))\n",
        "fig.show()"
      ],
      "execution_count": 0,
      "outputs": [
        {
          "output_type": "display_data",
          "data": {
            "text/html": [
              "<html>\n",
              "<head><meta charset=\"utf-8\" /></head>\n",
              "<body>\n",
              "    <div>\n",
              "            <script src=\"https://cdnjs.cloudflare.com/ajax/libs/mathjax/2.7.5/MathJax.js?config=TeX-AMS-MML_SVG\"></script><script type=\"text/javascript\">if (window.MathJax) {MathJax.Hub.Config({SVG: {font: \"STIX-Web\"}});}</script>\n",
              "                <script type=\"text/javascript\">window.PlotlyConfig = {MathJaxConfig: 'local'};</script>\n",
              "        <script src=\"https://cdn.plot.ly/plotly-latest.min.js\"></script>    \n",
              "            <div id=\"eadb91a7-3457-4a89-99a5-eb2a8273a2ad\" class=\"plotly-graph-div\" style=\"height:infpx; width:infpx;\"></div>\n",
              "            <script type=\"text/javascript\">\n",
              "                \n",
              "                    window.PLOTLYENV=window.PLOTLYENV || {};\n",
              "                    \n",
              "                if (document.getElementById(\"eadb91a7-3457-4a89-99a5-eb2a8273a2ad\")) {\n",
              "                    Plotly.newPlot(\n",
              "                        'eadb91a7-3457-4a89-99a5-eb2a8273a2ad',\n",
              "                        [{\"hoverinfo\": \"text\", \"marker\": {\"color\": \"rgb(61,153,112)\"}, \"mode\": \"lines\", \"type\": \"scatter\", \"x\": [25.0, 25.0, 35.0, 35.0], \"xaxis\": \"x\", \"y\": [0.0, 379.0, 379.0, 0.0], \"yaxis\": \"y\"}, {\"hoverinfo\": \"text\", \"marker\": {\"color\": \"rgb(0,116,217)\"}, \"mode\": \"lines\", \"type\": \"scatter\", \"x\": [15.0, 15.0, 30.0, 30.0], \"xaxis\": \"x\", \"y\": [0.0, 808.0, 808.0, 379.0], \"yaxis\": \"y\"}, {\"hoverinfo\": \"text\", \"marker\": {\"color\": \"rgb(255,65,54)\"}, \"mode\": \"lines\", \"type\": \"scatter\", \"x\": [75.0, 75.0, 85.0, 85.0], \"xaxis\": \"x\", \"y\": [0.0, 206.0, 206.0, 0.0], \"yaxis\": \"y\"}, {\"hoverinfo\": \"text\", \"marker\": {\"color\": \"rgb(255,65,54)\"}, \"mode\": \"lines\", \"type\": \"scatter\", \"x\": [65.0, 65.0, 80.0, 80.0], \"xaxis\": \"x\", \"y\": [0.0, 233.0, 233.0, 206.0], \"yaxis\": \"y\"}, {\"hoverinfo\": \"text\", \"marker\": {\"color\": \"rgb(255,65,54)\"}, \"mode\": \"lines\", \"type\": \"scatter\", \"x\": [55.0, 55.0, 72.5, 72.5], \"xaxis\": \"x\", \"y\": [0.0, 671.0, 671.0, 233.0], \"yaxis\": \"y\"}, {\"hoverinfo\": \"text\", \"marker\": {\"color\": \"rgb(0,116,217)\"}, \"mode\": \"lines\", \"type\": \"scatter\", \"x\": [45.0, 45.0, 63.75, 63.75], \"xaxis\": \"x\", \"y\": [0.0, 996.0, 996.0, 671.0], \"yaxis\": \"y\"}, {\"hoverinfo\": \"text\", \"marker\": {\"color\": \"rgb(0,116,217)\"}, \"mode\": \"lines\", \"type\": \"scatter\", \"x\": [22.5, 22.5, 54.375, 54.375], \"xaxis\": \"x\", \"y\": [808.0, 1059.0, 1059.0, 996.0], \"yaxis\": \"y\"}, {\"hoverinfo\": \"text\", \"marker\": {\"color\": \"rgb(0,116,217)\"}, \"mode\": \"lines\", \"type\": \"scatter\", \"x\": [5.0, 5.0, 38.4375, 38.4375], \"xaxis\": \"x\", \"y\": [0.0, 1075.0, 1075.0, 1059.0], \"yaxis\": \"y\"}],\n",
              "                        {\"autosize\": false, \"height\": null, \"hovermode\": \"closest\", \"showlegend\": false, \"template\": {\"data\": {\"bar\": [{\"error_x\": {\"color\": \"#2a3f5f\"}, \"error_y\": {\"color\": \"#2a3f5f\"}, \"marker\": {\"line\": {\"color\": \"#E5ECF6\", \"width\": 0.5}}, \"type\": \"bar\"}], \"barpolar\": [{\"marker\": {\"line\": {\"color\": \"#E5ECF6\", \"width\": 0.5}}, \"type\": \"barpolar\"}], \"carpet\": [{\"aaxis\": {\"endlinecolor\": \"#2a3f5f\", \"gridcolor\": \"white\", \"linecolor\": \"white\", \"minorgridcolor\": \"white\", \"startlinecolor\": \"#2a3f5f\"}, \"baxis\": {\"endlinecolor\": \"#2a3f5f\", \"gridcolor\": \"white\", \"linecolor\": \"white\", \"minorgridcolor\": \"white\", \"startlinecolor\": \"#2a3f5f\"}, \"type\": \"carpet\"}], \"choropleth\": [{\"colorbar\": {\"outlinewidth\": 0, \"ticks\": \"\"}, \"type\": \"choropleth\"}], \"contour\": [{\"colorbar\": {\"outlinewidth\": 0, \"ticks\": \"\"}, \"colorscale\": [[0.0, \"#0d0887\"], [0.1111111111111111, \"#46039f\"], [0.2222222222222222, \"#7201a8\"], [0.3333333333333333, \"#9c179e\"], [0.4444444444444444, \"#bd3786\"], [0.5555555555555556, \"#d8576b\"], [0.6666666666666666, \"#ed7953\"], [0.7777777777777778, \"#fb9f3a\"], [0.8888888888888888, \"#fdca26\"], [1.0, \"#f0f921\"]], \"type\": \"contour\"}], \"contourcarpet\": [{\"colorbar\": {\"outlinewidth\": 0, \"ticks\": \"\"}, \"type\": \"contourcarpet\"}], \"heatmap\": [{\"colorbar\": {\"outlinewidth\": 0, \"ticks\": \"\"}, \"colorscale\": [[0.0, \"#0d0887\"], [0.1111111111111111, \"#46039f\"], [0.2222222222222222, \"#7201a8\"], [0.3333333333333333, \"#9c179e\"], [0.4444444444444444, \"#bd3786\"], [0.5555555555555556, \"#d8576b\"], [0.6666666666666666, \"#ed7953\"], [0.7777777777777778, \"#fb9f3a\"], [0.8888888888888888, \"#fdca26\"], [1.0, \"#f0f921\"]], \"type\": \"heatmap\"}], \"heatmapgl\": [{\"colorbar\": {\"outlinewidth\": 0, \"ticks\": \"\"}, \"colorscale\": [[0.0, \"#0d0887\"], [0.1111111111111111, \"#46039f\"], [0.2222222222222222, \"#7201a8\"], [0.3333333333333333, \"#9c179e\"], [0.4444444444444444, \"#bd3786\"], [0.5555555555555556, \"#d8576b\"], [0.6666666666666666, \"#ed7953\"], [0.7777777777777778, \"#fb9f3a\"], [0.8888888888888888, \"#fdca26\"], [1.0, \"#f0f921\"]], \"type\": \"heatmapgl\"}], \"histogram\": [{\"marker\": {\"colorbar\": {\"outlinewidth\": 0, \"ticks\": \"\"}}, \"type\": \"histogram\"}], \"histogram2d\": [{\"colorbar\": {\"outlinewidth\": 0, \"ticks\": \"\"}, \"colorscale\": [[0.0, \"#0d0887\"], [0.1111111111111111, \"#46039f\"], [0.2222222222222222, \"#7201a8\"], [0.3333333333333333, \"#9c179e\"], [0.4444444444444444, \"#bd3786\"], [0.5555555555555556, \"#d8576b\"], [0.6666666666666666, \"#ed7953\"], [0.7777777777777778, \"#fb9f3a\"], [0.8888888888888888, \"#fdca26\"], [1.0, \"#f0f921\"]], \"type\": \"histogram2d\"}], \"histogram2dcontour\": [{\"colorbar\": {\"outlinewidth\": 0, \"ticks\": \"\"}, \"colorscale\": [[0.0, \"#0d0887\"], [0.1111111111111111, \"#46039f\"], [0.2222222222222222, \"#7201a8\"], [0.3333333333333333, \"#9c179e\"], [0.4444444444444444, \"#bd3786\"], [0.5555555555555556, \"#d8576b\"], [0.6666666666666666, \"#ed7953\"], [0.7777777777777778, \"#fb9f3a\"], [0.8888888888888888, \"#fdca26\"], [1.0, \"#f0f921\"]], \"type\": \"histogram2dcontour\"}], \"mesh3d\": [{\"colorbar\": {\"outlinewidth\": 0, \"ticks\": \"\"}, \"type\": \"mesh3d\"}], \"parcoords\": [{\"line\": {\"colorbar\": {\"outlinewidth\": 0, \"ticks\": \"\"}}, \"type\": \"parcoords\"}], \"scatter\": [{\"marker\": {\"colorbar\": {\"outlinewidth\": 0, \"ticks\": \"\"}}, \"type\": \"scatter\"}], \"scatter3d\": [{\"line\": {\"colorbar\": {\"outlinewidth\": 0, \"ticks\": \"\"}}, \"marker\": {\"colorbar\": {\"outlinewidth\": 0, \"ticks\": \"\"}}, \"type\": \"scatter3d\"}], \"scattercarpet\": [{\"marker\": {\"colorbar\": {\"outlinewidth\": 0, \"ticks\": \"\"}}, \"type\": \"scattercarpet\"}], \"scattergeo\": [{\"marker\": {\"colorbar\": {\"outlinewidth\": 0, \"ticks\": \"\"}}, \"type\": \"scattergeo\"}], \"scattergl\": [{\"marker\": {\"colorbar\": {\"outlinewidth\": 0, \"ticks\": \"\"}}, \"type\": \"scattergl\"}], \"scattermapbox\": [{\"marker\": {\"colorbar\": {\"outlinewidth\": 0, \"ticks\": \"\"}}, \"type\": \"scattermapbox\"}], \"scatterpolar\": [{\"marker\": {\"colorbar\": {\"outlinewidth\": 0, \"ticks\": \"\"}}, \"type\": \"scatterpolar\"}], \"scatterpolargl\": [{\"marker\": {\"colorbar\": {\"outlinewidth\": 0, \"ticks\": \"\"}}, \"type\": \"scatterpolargl\"}], \"scatterternary\": [{\"marker\": {\"colorbar\": {\"outlinewidth\": 0, \"ticks\": \"\"}}, \"type\": \"scatterternary\"}], \"surface\": [{\"colorbar\": {\"outlinewidth\": 0, \"ticks\": \"\"}, \"colorscale\": [[0.0, \"#0d0887\"], [0.1111111111111111, \"#46039f\"], [0.2222222222222222, \"#7201a8\"], [0.3333333333333333, \"#9c179e\"], [0.4444444444444444, \"#bd3786\"], [0.5555555555555556, \"#d8576b\"], [0.6666666666666666, \"#ed7953\"], [0.7777777777777778, \"#fb9f3a\"], [0.8888888888888888, \"#fdca26\"], [1.0, \"#f0f921\"]], \"type\": \"surface\"}], \"table\": [{\"cells\": {\"fill\": {\"color\": \"#EBF0F8\"}, \"line\": {\"color\": \"white\"}}, \"header\": {\"fill\": {\"color\": \"#C8D4E3\"}, \"line\": {\"color\": \"white\"}}, \"type\": \"table\"}]}, \"layout\": {\"annotationdefaults\": {\"arrowcolor\": \"#2a3f5f\", \"arrowhead\": 0, \"arrowwidth\": 1}, \"colorscale\": {\"diverging\": [[0, \"#8e0152\"], [0.1, \"#c51b7d\"], [0.2, \"#de77ae\"], [0.3, \"#f1b6da\"], [0.4, \"#fde0ef\"], [0.5, \"#f7f7f7\"], [0.6, \"#e6f5d0\"], [0.7, \"#b8e186\"], [0.8, \"#7fbc41\"], [0.9, \"#4d9221\"], [1, \"#276419\"]], \"sequential\": [[0.0, \"#0d0887\"], [0.1111111111111111, \"#46039f\"], [0.2222222222222222, \"#7201a8\"], [0.3333333333333333, \"#9c179e\"], [0.4444444444444444, \"#bd3786\"], [0.5555555555555556, \"#d8576b\"], [0.6666666666666666, \"#ed7953\"], [0.7777777777777778, \"#fb9f3a\"], [0.8888888888888888, \"#fdca26\"], [1.0, \"#f0f921\"]], \"sequentialminus\": [[0.0, \"#0d0887\"], [0.1111111111111111, \"#46039f\"], [0.2222222222222222, \"#7201a8\"], [0.3333333333333333, \"#9c179e\"], [0.4444444444444444, \"#bd3786\"], [0.5555555555555556, \"#d8576b\"], [0.6666666666666666, \"#ed7953\"], [0.7777777777777778, \"#fb9f3a\"], [0.8888888888888888, \"#fdca26\"], [1.0, \"#f0f921\"]]}, \"colorway\": [\"#636efa\", \"#EF553B\", \"#00cc96\", \"#ab63fa\", \"#FFA15A\", \"#19d3f3\", \"#FF6692\", \"#B6E880\", \"#FF97FF\", \"#FECB52\"], \"font\": {\"color\": \"#2a3f5f\"}, \"geo\": {\"bgcolor\": \"white\", \"lakecolor\": \"white\", \"landcolor\": \"#E5ECF6\", \"showlakes\": true, \"showland\": true, \"subunitcolor\": \"white\"}, \"hoverlabel\": {\"align\": \"left\"}, \"hovermode\": \"closest\", \"mapbox\": {\"style\": \"light\"}, \"paper_bgcolor\": \"white\", \"plot_bgcolor\": \"#E5ECF6\", \"polar\": {\"angularaxis\": {\"gridcolor\": \"white\", \"linecolor\": \"white\", \"ticks\": \"\"}, \"bgcolor\": \"#E5ECF6\", \"radialaxis\": {\"gridcolor\": \"white\", \"linecolor\": \"white\", \"ticks\": \"\"}}, \"scene\": {\"xaxis\": {\"backgroundcolor\": \"#E5ECF6\", \"gridcolor\": \"white\", \"gridwidth\": 2, \"linecolor\": \"white\", \"showbackground\": true, \"ticks\": \"\", \"zerolinecolor\": \"white\"}, \"yaxis\": {\"backgroundcolor\": \"#E5ECF6\", \"gridcolor\": \"white\", \"gridwidth\": 2, \"linecolor\": \"white\", \"showbackground\": true, \"ticks\": \"\", \"zerolinecolor\": \"white\"}, \"zaxis\": {\"backgroundcolor\": \"#E5ECF6\", \"gridcolor\": \"white\", \"gridwidth\": 2, \"linecolor\": \"white\", \"showbackground\": true, \"ticks\": \"\", \"zerolinecolor\": \"white\"}}, \"shapedefaults\": {\"line\": {\"color\": \"#2a3f5f\"}}, \"ternary\": {\"aaxis\": {\"gridcolor\": \"white\", \"linecolor\": \"white\", \"ticks\": \"\"}, \"baxis\": {\"gridcolor\": \"white\", \"linecolor\": \"white\", \"ticks\": \"\"}, \"bgcolor\": \"#E5ECF6\", \"caxis\": {\"gridcolor\": \"white\", \"linecolor\": \"white\", \"ticks\": \"\"}}, \"title\": {\"x\": 0.05}, \"xaxis\": {\"automargin\": true, \"gridcolor\": \"white\", \"linecolor\": \"white\", \"ticks\": \"\", \"zerolinecolor\": \"white\", \"zerolinewidth\": 2}, \"yaxis\": {\"automargin\": true, \"gridcolor\": \"white\", \"linecolor\": \"white\", \"ticks\": \"\", \"zerolinecolor\": \"white\", \"zerolinewidth\": 2}}}, \"width\": null, \"xaxis\": {\"mirror\": \"allticks\", \"rangemode\": \"tozero\", \"showgrid\": false, \"showline\": true, \"showticklabels\": true, \"tickmode\": \"array\", \"ticks\": \"outside\", \"ticktext\": [\"MIA\", \"SEA\", \"SF\", \"LA\", \"DEN\", \"CHI\", \"DC\", \"BOS\", \"NY\"], \"tickvals\": [5.0, 15.0, 25.0, 35.0, 45.0, 55.0, 65.0, 75.0, 85.0], \"type\": \"linear\", \"zeroline\": false}, \"yaxis\": {\"mirror\": \"allticks\", \"rangemode\": \"tozero\", \"showgrid\": false, \"showline\": true, \"showticklabels\": true, \"ticks\": \"outside\", \"type\": \"linear\", \"zeroline\": false}},\n",
              "                        {\"responsive\": true}\n",
              "                    ).then(function(){\n",
              "                            \n",
              "var gd = document.getElementById('eadb91a7-3457-4a89-99a5-eb2a8273a2ad');\n",
              "var x = new MutationObserver(function (mutations, observer) {{\n",
              "        var display = window.getComputedStyle(gd).display;\n",
              "        if (!display || display === 'none') {{\n",
              "            console.log([gd, 'removed!']);\n",
              "            Plotly.purge(gd);\n",
              "            observer.disconnect();\n",
              "        }}\n",
              "}});\n",
              "\n",
              "// Listen for the removal of the full notebook cells\n",
              "var notebookContainer = gd.closest('#notebook-container');\n",
              "if (notebookContainer) {{\n",
              "    x.observe(notebookContainer, {childList: true});\n",
              "}}\n",
              "\n",
              "// Listen for the clearing of the current output cell\n",
              "var outputEl = gd.closest('.output');\n",
              "if (outputEl) {{\n",
              "    x.observe(outputEl, {childList: true});\n",
              "}}\n",
              "\n",
              "                        })\n",
              "                };\n",
              "                \n",
              "            </script>\n",
              "        </div>\n",
              "</body>\n",
              "</html>"
            ]
          },
          "metadata": {
            "tags": []
          }
        }
      ]
    }
  ]
}