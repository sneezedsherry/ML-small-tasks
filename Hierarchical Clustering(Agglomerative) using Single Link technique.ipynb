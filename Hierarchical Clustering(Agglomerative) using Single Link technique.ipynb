{
  "nbformat": 4,
  "nbformat_minor": 0,
  "metadata": {
    "colab": {
      "name": "bus235-hw1-Cao_Xiyu-013760916",
      "provenance": [],
      "include_colab_link": true
    },
    "kernelspec": {
      "name": "python3",
      "display_name": "Python 3"
    }
  },
  "cells": [
    {
      "cell_type": "markdown",
      "metadata": {
        "id": "view-in-github",
        "colab_type": "text"
      },
      "source": [
        "<a href=\"https://colab.research.google.com/github/sneezedsherry/ML-small-tasks/blob/master/Hierarchical%20Clustering(Agglomerative)%20using%20Single%20Link%20technique.ipynb\" target=\"_parent\"><img src=\"https://colab.research.google.com/assets/colab-badge.svg\" alt=\"Open In Colab\"/></a>"
      ]
    },
    {
      "cell_type": "code",
      "metadata": {
        "id": "dc-IhLeCFKGW",
        "colab_type": "code",
        "colab": {}
      },
      "source": [
        "import numpy as np\n",
        "import matplotlib.pyplot as plt\n",
        "import pandas as pd\n",
        "%matplotlib inline\n",
        "from scipy.cluster.hierarchy import dendrogram, linkage"
      ],
      "execution_count": 0,
      "outputs": []
    },
    {
      "cell_type": "code",
      "metadata": {
        "id": "czIrubg7Eh6x",
        "colab_type": "code",
        "colab": {}
      },
      "source": [
        "from scipy.cluster.hierarchy import dendrogram, linkage"
      ],
      "execution_count": 0,
      "outputs": []
    },
    {
      "cell_type": "code",
      "metadata": {
        "id": "TxV-QKFdHCT_",
        "colab_type": "code",
        "colab": {}
      },
      "source": [
        "X = np.array(\n",
        "    [\n",
        "     [2,2],\n",
        "     [2,6],\n",
        "     [3,7],\n",
        "     [5,2],\n",
        "     [5,5],\n",
        "     [5,8],\n",
        "     [6,6],\n",
        "     [7,3],\n",
        "     [8,4],\n",
        "     [10,6],\n",
        "     [12,8],\n",
        "    ]\n",
        ")"
      ],
      "execution_count": 0,
      "outputs": []
    },
    {
      "cell_type": "code",
      "metadata": {
        "id": "p7Txe9fXIEs1",
        "colab_type": "code",
        "outputId": "8ae492aa-18d5-4bd4-ea13-148838253924",
        "colab": {
          "base_uri": "https://localhost:8080/",
          "height": 323
        }
      },
      "source": [
        "plt.scatter(X[:,0],X[:,1], label='True Position')\n",
        "plt.xlim(0,14)\n",
        "plt.ylim(0,10)\n",
        "for xy, x, y in zip(X, X[:, 0], X[:, 1]):\n",
        "    plt.annotate(\n",
        "        xy,\n",
        "        xy=(x, y), xytext=(20, -20),\n",
        "        textcoords='offset points', ha='right', va='bottom')\n",
        "plt.show()"
      ],
      "execution_count": 0,
      "outputs": [
        {
          "output_type": "stream",
          "text": [
            "/usr/local/lib/python3.6/dist-packages/matplotlib/text.py:1191: FutureWarning: elementwise comparison failed; returning scalar instead, but in the future will perform elementwise comparison\n",
            "  if s != self._text:\n"
          ],
          "name": "stderr"
        },
        {
          "output_type": "display_data",
          "data": {
            "image/png": "[encoded data removed]",
            "text/plain": [
              "<Figure size 432x288 with 1 Axes>"
            ]
          },
          "metadata": {
            "tags": []
          }
        }
      ]
    },
    {
      "cell_type": "code",
      "metadata": {
        "id": "R6cSkJ3t65Wv",
        "colab_type": "code",
        "outputId": "e7b72317-1f6d-411f-9a36-591981cac1be",
        "colab": {
          "base_uri": "https://localhost:8080/",
          "height": 34
        }
      },
      "source": [
        "from sklearn.cluster import AgglomerativeClustering\n",
        "\n",
        "cluster = AgglomerativeClustering(n_clusters=2, affinity='euclidean', linkage='single')\n",
        "cluster.fit_predict(X)"
      ],
      "execution_count": 0,
      "outputs": [
        {
          "output_type": "execute_result",
          "data": {
            "text/plain": [
              "array([1, 0, 0, 0, 0, 0, 0, 0, 0, 0, 0])"
            ]
          },
          "metadata": {
            "tags": []
          },
          "execution_count": 114
        }
      ]
    },
    {
      "cell_type": "code",
      "metadata": {
        "id": "Nq_qdno0S_GP",
        "colab_type": "code",
        "outputId": "d81b83cf-985b-4f6e-df3b-938fcde15942",
        "colab": {
          "base_uri": "https://localhost:8080/",
          "height": 380
        }
      },
      "source": [
        "linked = linkage(X, 'single')\n",
        "\n",
        "labelList = X\n",
        "\n",
        "plt.figure(figsize=(10, 5))\n",
        "dendrogram(linked,\n",
        "            orientation='top',\n",
        "            labels=labelList,\n",
        "            distance_sort='descending',\n",
        "            show_leaf_counts=True)\n",
        "plt.show()"
      ],
      "execution_count": 0,
      "outputs": [
        {
          "output_type": "stream",
          "text": [
            "/usr/local/lib/python3.6/dist-packages/matplotlib/text.py:1191: FutureWarning: elementwise comparison failed; returning scalar instead, but in the future will perform elementwise comparison\n",
            "  if s != self._text:\n"
          ],
          "name": "stderr"
        },
        {
          "output_type": "display_data",
          "data": {
            "image/png": "[encoded data removed]",
            "text/plain": [
              "<Figure size 720x360 with 1 Axes>"
            ]
          },
          "metadata": {
            "tags": []
          }
        }
      ]
    },
    {
      "cell_type": "code",
      "metadata": {
        "id": "HlzWwyHs7DNE",
        "colab_type": "code",
        "outputId": "939d2e60-ec6a-4a88-9442-a1583279a098",
        "colab": {
          "base_uri": "https://localhost:8080/",
          "height": 323
        }
      },
      "source": [
        "plt.scatter(X[:,0],X[:,1], c=cluster.labels_, cmap='rainbow')\n",
        "plt.xlim(0,14)\n",
        "plt.ylim(0,10)\n",
        "for xy, x, y in zip(X, X[:, 0], X[:, 1]):\n",
        "    plt.annotate(\n",
        "        xy,\n",
        "        xy=(x, y), xytext=(20, -20),\n",
        "        textcoords='offset points', ha='right', va='bottom')"
      ],
      "execution_count": 0,
      "outputs": [
        {
          "output_type": "stream",
          "text": [
            "/usr/local/lib/python3.6/dist-packages/matplotlib/text.py:1191: FutureWarning: elementwise comparison failed; returning scalar instead, but in the future will perform elementwise comparison\n",
            "  if s != self._text:\n"
          ],
          "name": "stderr"
        },
        {
          "output_type": "display_data",
          "data": {
            "image/png": "[encoded data removed]",
            "text/plain": [
              "<Figure size 432x288 with 1 Axes>"
            ]
          },
          "metadata": {
            "tags": []
          }
        }
      ]
    }
  ]
}